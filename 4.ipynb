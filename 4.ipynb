{
 "cells": [
  {
   "cell_type": "code",
   "execution_count": 1,
   "id": "0aa02bb1",
   "metadata": {},
   "outputs": [],
   "source": [
    "import io\n",
    "from numpy import where, average\n",
    "from pandas import read_csv\n",
    "from sklearn import datasets\n",
    "from sklearn.linear_model import SGDClassifier\n",
    "from sklearn.model_selection import train_test_split, cross_val_score, GridSearchCV\n",
    "from sklearn.ensemble import RandomForestClassifier\n",
    "\n",
    "data = read_csv(\"C:\\\\Users\\\\Sumu\\\\Desktop\\\\BankChurners.csv\",index_col = \"CLIENTNUM\");\n",
    "data.columns\n",
    "\n",
    "needed = [\"Attrition_Flag\", \"Customer_Age\", \"Gender\",  \"Education_Level\", \"Marital_Status\",\n",
    "\"Income_Category\", \"Card_Category\", \"Credit_Limit\"]\n",
    "data = data.loc[:, data.columns.isin(needed)]\n"
   ]
  },
  {
   "cell_type": "code",
   "execution_count": 2,
   "id": "6c6b37f6",
   "metadata": {},
   "outputs": [
    {
     "data": {
      "text/plain": [
       "CLIENTNUM\n",
       "768805383    1.0\n",
       "818770008    2.0\n",
       "713982108    2.0\n",
       "769911858    1.0\n",
       "709106358    0.0\n",
       "            ... \n",
       "772366833    2.0\n",
       "710638233    NaN\n",
       "716506083    1.0\n",
       "717406983    2.0\n",
       "714337233    2.0\n",
       "Name: Education_Level, Length: 10127, dtype: float64"
      ]
     },
     "execution_count": 2,
     "metadata": {},
     "output_type": "execute_result"
    }
   ],
   "source": [
    "data[\"Education_Level\"] = where(data[\"Education_Level\"] == \"Unknown\", float('nan'), data[\"Education_Level\"])\n",
    "\n",
    "data[\"Education_Level\"] = where(data[\"Education_Level\"] == \"Graduate\", 2, data[\"Education_Level\"])\n",
    "data[\"Education_Level\"] = where(data[\"Education_Level\"] == \"Post-Graduate\", 2, data[\"Education_Level\"])\n",
    "data[\"Education_Level\"] = where(data[\"Education_Level\"] == \"Doctorate\", 2, data[\"Education_Level\"])\n",
    "\n",
    "data[\"Education_Level\"] = where(data[\"Education_Level\"] == \"High School\", 1, data[\"Education_Level\"])\n",
    "data[\"Education_Level\"] = where(data[\"Education_Level\"] ==\"College\", 1, data[\"Education_Level\"])\n",
    "\n",
    "data[\"Education_Level\"] = where(data[\"Education_Level\"] == \"Uneducated\", 0, data[\"Education_Level\"])\n",
    "\n",
    "data[\"Education_Level\"] = data[\"Education_Level\"].astype('float')\n",
    "\n",
    "data[\"Education_Level\"]\n"
   ]
  },
  {
   "cell_type": "code",
   "execution_count": 3,
   "id": "0be75c4e",
   "metadata": {},
   "outputs": [
    {
     "data": {
      "text/plain": [
       "CLIENTNUM\n",
       "768805383    1\n",
       "818770008    1\n",
       "713982108    1\n",
       "769911858    1\n",
       "709106358    1\n",
       "            ..\n",
       "772366833    1\n",
       "710638233    0\n",
       "716506083    0\n",
       "717406983    0\n",
       "714337233    0\n",
       "Name: Attrition_Flag, Length: 10127, dtype: int32"
      ]
     },
     "execution_count": 3,
     "metadata": {},
     "output_type": "execute_result"
    }
   ],
   "source": [
    "data[\"Attrition_Flag\"] = where(data[\"Attrition_Flag\"] == \"Existing Customer\", 1, 0)\n",
    "data[\"Attrition_Flag\"] = data[\"Attrition_Flag\"].astype('int')\n",
    "\n",
    "data[\"Attrition_Flag\"]"
   ]
  },
  {
   "cell_type": "code",
   "execution_count": 4,
   "id": "243fac2c",
   "metadata": {},
   "outputs": [
    {
     "data": {
      "text/plain": [
       "CLIENTNUM\n",
       "768805383    1\n",
       "818770008    0\n",
       "713982108    1\n",
       "769911858    0\n",
       "709106358    1\n",
       "            ..\n",
       "772366833    1\n",
       "710638233    1\n",
       "716506083    0\n",
       "717406983    1\n",
       "714337233    0\n",
       "Name: Gender, Length: 10127, dtype: int32"
      ]
     },
     "execution_count": 4,
     "metadata": {},
     "output_type": "execute_result"
    }
   ],
   "source": [
    "data[\"Gender\"] = where(data[\"Gender\"] == \"M\", 1, 0)\n",
    "data[\"Gender\"] = data[\"Gender\"].astype('int')\n",
    "\n",
    "data[\"Gender\"]"
   ]
  },
  {
   "cell_type": "code",
   "execution_count": 5,
   "id": "8c7ca3a0",
   "metadata": {},
   "outputs": [
    {
     "data": {
      "text/plain": [
       "CLIENTNUM\n",
       "768805383    0\n",
       "818770008    1\n",
       "713982108    0\n",
       "709106358    0\n",
       "713061558    0\n",
       "            ..\n",
       "710841183    1\n",
       "713899383    1\n",
       "772366833    1\n",
       "716506083    0\n",
       "714337233    0\n",
       "Name: Marital_Status, Length: 7973, dtype: int32"
      ]
     },
     "execution_count": 5,
     "metadata": {},
     "output_type": "execute_result"
    }
   ],
   "source": [
    "data[\"Marital_Status\"] = where(data[\"Marital_Status\"] == \"Married\", 0, data[\"Marital_Status\"])\n",
    "\n",
    "data[\"Marital_Status\"] = where(data[\"Marital_Status\"] == \"Single\", 1, data[\"Marital_Status\"])\n",
    "data[\"Marital_Status\"] = where(data[\"Marital_Status\"] == \"Divorced\", 1, data[\"Marital_Status\"])\n",
    "\n",
    "data[\"Marital_Status\"] = where(data[\"Marital_Status\"] == \"Unknown\", float('nan'), data[\"Marital_Status\"])\n",
    "\n",
    "data = data.dropna()\n",
    "\n",
    "data[\"Marital_Status\"] = data[\"Marital_Status\"].astype('int')\n",
    "\n",
    "data[\"Marital_Status\"]"
   ]
  },
  {
   "cell_type": "code",
   "execution_count": 6,
   "id": "b040deab",
   "metadata": {
    "scrolled": true
   },
   "outputs": [
    {
     "data": {
      "text/plain": [
       "CLIENTNUM\n",
       "768805383    1\n",
       "818770008    2\n",
       "713982108    2\n",
       "709106358    0\n",
       "713061558    2\n",
       "            ..\n",
       "710841183    1\n",
       "713899383    2\n",
       "772366833    2\n",
       "716506083    1\n",
       "714337233    2\n",
       "Name: Income_Category, Length: 7973, dtype: int32"
      ]
     },
     "execution_count": 6,
     "metadata": {},
     "output_type": "execute_result"
    }
   ],
   "source": [
    "data[\"Income_Category\"] = where(data[\"Income_Category\"] == \"$120K +\", 4, data[\"Education_Level\"])\n",
    "data[\"Income_Category\"] = where(data[\"Income_Category\"] == \"$80K - $120K\", 3, data[\"Education_Level\"])\n",
    "data[\"Income_Category\"] = where(data[\"Income_Category\"] == \"$60K - $80K\", 2, data[\"Education_Level\"])\n",
    "data[\"Income_Category\"] = where(data[\"Income_Category\"] == \"$40K - $60K\", 1, data[\"Education_Level\"])\n",
    "data[\"Income_Category\"] = where(data[\"Income_Category\"] == \"Less than $40K\", 0, data[\"Education_Level\"])\n",
    "\n",
    "data[\"Income_Category\"] = where(data[\"Income_Category\"] == \"Unknown\", float('nan'), data[\"Education_Level\"])\n",
    "\n",
    "data = data.dropna()\n",
    "\n",
    "data[\"Income_Category\"] = data[\"Income_Category\"].astype('int')\n",
    "\n",
    "data[\"Income_Category\"]"
   ]
  },
  {
   "cell_type": "code",
   "execution_count": 7,
   "id": "798ba453",
   "metadata": {},
   "outputs": [
    {
     "data": {
      "text/plain": [
       "CLIENTNUM\n",
       "768805383    0\n",
       "818770008    0\n",
       "713982108    0\n",
       "709106358    0\n",
       "713061558    0\n",
       "            ..\n",
       "710841183    0\n",
       "713899383    0\n",
       "772366833    0\n",
       "716506083    0\n",
       "714337233    1\n",
       "Name: Card_Category, Length: 7973, dtype: int32"
      ]
     },
     "execution_count": 7,
     "metadata": {},
     "output_type": "execute_result"
    }
   ],
   "source": [
    "data[\"Card_Category\"] = where(data[\"Card_Category\"] == \"Platinum\", 3, data[\"Card_Category\"])\n",
    "data[\"Card_Category\"] = where(data[\"Card_Category\"] == \"Gold\", 2, data[\"Card_Category\"])\n",
    "data[\"Card_Category\"] = where(data[\"Card_Category\"] == \"Silver\", 1, data[\"Card_Category\"])\n",
    "data[\"Card_Category\"] = where(data[\"Card_Category\"] == \"Blue\", 0, data[\"Card_Category\"])\n",
    "data[\"Card_Category\"] = data[\"Card_Category\"].astype('int')\n",
    "\n",
    "data[\"Card_Category\"]"
   ]
  },
  {
   "cell_type": "code",
   "execution_count": 8,
   "id": "af7606da",
   "metadata": {},
   "outputs": [
    {
     "data": {
      "text/plain": [
       "CLIENTNUM\n",
       "768805383   -0.168572\n",
       "818770008    0.324693\n",
       "713982108    0.571325\n",
       "709106358   -0.785153\n",
       "713061558   -0.291888\n",
       "               ...   \n",
       "710841183    0.941274\n",
       "713899383    1.187906\n",
       "772366833    0.448009\n",
       "716506083   -0.291888\n",
       "714337233   -0.415204\n",
       "Name: Customer_Age, Length: 7973, dtype: float64"
      ]
     },
     "execution_count": 8,
     "metadata": {},
     "output_type": "execute_result"
    }
   ],
   "source": [
    "data[\"Customer_Age\"] = (data[\"Customer_Age\"] - data[\"Customer_Age\"].mean())/data[\"Customer_Age\"].std()\n",
    "\n",
    "data[\"Customer_Age\"]"
   ]
  },
  {
   "cell_type": "code",
   "execution_count": 9,
   "id": "1c459277",
   "metadata": {},
   "outputs": [
    {
     "data": {
      "text/plain": [
       "CLIENTNUM\n",
       "768805383    0.452978\n",
       "818770008   -0.036796\n",
       "713982108   -0.571075\n",
       "709106358   -0.427732\n",
       "713061558   -0.505699\n",
       "               ...   \n",
       "710841183    0.590910\n",
       "713899383   -0.541258\n",
       "772366833   -0.506472\n",
       "716506083   -0.351202\n",
       "714337233    0.198649\n",
       "Name: Credit_Limit, Length: 7973, dtype: float64"
      ]
     },
     "execution_count": 9,
     "metadata": {},
     "output_type": "execute_result"
    }
   ],
   "source": [
    "data[\"Credit_Limit\"] = (data[\"Credit_Limit\"] - data[\"Credit_Limit\"].mean())/data[\"Credit_Limit\"].std()\n",
    "\n",
    "data[\"Credit_Limit\"]"
   ]
  },
  {
   "cell_type": "code",
   "execution_count": 10,
   "id": "1a67d53d",
   "metadata": {
    "scrolled": true
   },
   "outputs": [
    {
     "data": {
      "text/html": [
       "<div>\n",
       "<style scoped>\n",
       "    .dataframe tbody tr th:only-of-type {\n",
       "        vertical-align: middle;\n",
       "    }\n",
       "\n",
       "    .dataframe tbody tr th {\n",
       "        vertical-align: top;\n",
       "    }\n",
       "\n",
       "    .dataframe thead th {\n",
       "        text-align: right;\n",
       "    }\n",
       "</style>\n",
       "<table border=\"1\" class=\"dataframe\">\n",
       "  <thead>\n",
       "    <tr style=\"text-align: right;\">\n",
       "      <th></th>\n",
       "      <th>Attrition_Flag</th>\n",
       "      <th>Customer_Age</th>\n",
       "      <th>Gender</th>\n",
       "      <th>Education_Level</th>\n",
       "      <th>Marital_Status</th>\n",
       "      <th>Income_Category</th>\n",
       "      <th>Card_Category</th>\n",
       "      <th>Credit_Limit</th>\n",
       "    </tr>\n",
       "    <tr>\n",
       "      <th>CLIENTNUM</th>\n",
       "      <th></th>\n",
       "      <th></th>\n",
       "      <th></th>\n",
       "      <th></th>\n",
       "      <th></th>\n",
       "      <th></th>\n",
       "      <th></th>\n",
       "      <th></th>\n",
       "    </tr>\n",
       "  </thead>\n",
       "  <tbody>\n",
       "    <tr>\n",
       "      <th>768805383</th>\n",
       "      <td>1</td>\n",
       "      <td>-0.168572</td>\n",
       "      <td>1</td>\n",
       "      <td>1.0</td>\n",
       "      <td>0</td>\n",
       "      <td>1</td>\n",
       "      <td>0</td>\n",
       "      <td>0.452978</td>\n",
       "    </tr>\n",
       "    <tr>\n",
       "      <th>818770008</th>\n",
       "      <td>1</td>\n",
       "      <td>0.324693</td>\n",
       "      <td>0</td>\n",
       "      <td>2.0</td>\n",
       "      <td>1</td>\n",
       "      <td>2</td>\n",
       "      <td>0</td>\n",
       "      <td>-0.036796</td>\n",
       "    </tr>\n",
       "    <tr>\n",
       "      <th>713982108</th>\n",
       "      <td>1</td>\n",
       "      <td>0.571325</td>\n",
       "      <td>1</td>\n",
       "      <td>2.0</td>\n",
       "      <td>0</td>\n",
       "      <td>2</td>\n",
       "      <td>0</td>\n",
       "      <td>-0.571075</td>\n",
       "    </tr>\n",
       "    <tr>\n",
       "      <th>709106358</th>\n",
       "      <td>1</td>\n",
       "      <td>-0.785153</td>\n",
       "      <td>1</td>\n",
       "      <td>0.0</td>\n",
       "      <td>0</td>\n",
       "      <td>0</td>\n",
       "      <td>0</td>\n",
       "      <td>-0.427732</td>\n",
       "    </tr>\n",
       "    <tr>\n",
       "      <th>713061558</th>\n",
       "      <td>1</td>\n",
       "      <td>-0.291888</td>\n",
       "      <td>1</td>\n",
       "      <td>2.0</td>\n",
       "      <td>0</td>\n",
       "      <td>2</td>\n",
       "      <td>0</td>\n",
       "      <td>-0.505699</td>\n",
       "    </tr>\n",
       "    <tr>\n",
       "      <th>...</th>\n",
       "      <td>...</td>\n",
       "      <td>...</td>\n",
       "      <td>...</td>\n",
       "      <td>...</td>\n",
       "      <td>...</td>\n",
       "      <td>...</td>\n",
       "      <td>...</td>\n",
       "      <td>...</td>\n",
       "    </tr>\n",
       "    <tr>\n",
       "      <th>710841183</th>\n",
       "      <td>1</td>\n",
       "      <td>0.941274</td>\n",
       "      <td>1</td>\n",
       "      <td>1.0</td>\n",
       "      <td>1</td>\n",
       "      <td>1</td>\n",
       "      <td>0</td>\n",
       "      <td>0.590910</td>\n",
       "    </tr>\n",
       "    <tr>\n",
       "      <th>713899383</th>\n",
       "      <td>1</td>\n",
       "      <td>1.187906</td>\n",
       "      <td>0</td>\n",
       "      <td>2.0</td>\n",
       "      <td>1</td>\n",
       "      <td>2</td>\n",
       "      <td>0</td>\n",
       "      <td>-0.541258</td>\n",
       "    </tr>\n",
       "    <tr>\n",
       "      <th>772366833</th>\n",
       "      <td>1</td>\n",
       "      <td>0.448009</td>\n",
       "      <td>1</td>\n",
       "      <td>2.0</td>\n",
       "      <td>1</td>\n",
       "      <td>2</td>\n",
       "      <td>0</td>\n",
       "      <td>-0.506472</td>\n",
       "    </tr>\n",
       "    <tr>\n",
       "      <th>716506083</th>\n",
       "      <td>0</td>\n",
       "      <td>-0.291888</td>\n",
       "      <td>0</td>\n",
       "      <td>1.0</td>\n",
       "      <td>0</td>\n",
       "      <td>1</td>\n",
       "      <td>0</td>\n",
       "      <td>-0.351202</td>\n",
       "    </tr>\n",
       "    <tr>\n",
       "      <th>714337233</th>\n",
       "      <td>0</td>\n",
       "      <td>-0.415204</td>\n",
       "      <td>0</td>\n",
       "      <td>2.0</td>\n",
       "      <td>0</td>\n",
       "      <td>2</td>\n",
       "      <td>1</td>\n",
       "      <td>0.198649</td>\n",
       "    </tr>\n",
       "  </tbody>\n",
       "</table>\n",
       "<p>7973 rows × 8 columns</p>\n",
       "</div>"
      ],
      "text/plain": [
       "           Attrition_Flag  Customer_Age  Gender  Education_Level   \n",
       "CLIENTNUM                                                          \n",
       "768805383               1     -0.168572       1              1.0  \\\n",
       "818770008               1      0.324693       0              2.0   \n",
       "713982108               1      0.571325       1              2.0   \n",
       "709106358               1     -0.785153       1              0.0   \n",
       "713061558               1     -0.291888       1              2.0   \n",
       "...                   ...           ...     ...              ...   \n",
       "710841183               1      0.941274       1              1.0   \n",
       "713899383               1      1.187906       0              2.0   \n",
       "772366833               1      0.448009       1              2.0   \n",
       "716506083               0     -0.291888       0              1.0   \n",
       "714337233               0     -0.415204       0              2.0   \n",
       "\n",
       "           Marital_Status  Income_Category  Card_Category  Credit_Limit  \n",
       "CLIENTNUM                                                                \n",
       "768805383               0                1              0      0.452978  \n",
       "818770008               1                2              0     -0.036796  \n",
       "713982108               0                2              0     -0.571075  \n",
       "709106358               0                0              0     -0.427732  \n",
       "713061558               0                2              0     -0.505699  \n",
       "...                   ...              ...            ...           ...  \n",
       "710841183               1                1              0      0.590910  \n",
       "713899383               1                2              0     -0.541258  \n",
       "772366833               1                2              0     -0.506472  \n",
       "716506083               0                1              0     -0.351202  \n",
       "714337233               0                2              1      0.198649  \n",
       "\n",
       "[7973 rows x 8 columns]"
      ]
     },
     "execution_count": 10,
     "metadata": {},
     "output_type": "execute_result"
    }
   ],
   "source": [
    "data = data.dropna()\n",
    "\n",
    "data"
   ]
  },
  {
   "cell_type": "code",
   "execution_count": 11,
   "id": "8e1dcdd2",
   "metadata": {
    "scrolled": true
   },
   "outputs": [],
   "source": [
    "needed = [\"Attrition_Flag\", \"Customer_Age\", \"Gender\", \"Education_Level\",\"Income_Category\",\n",
    "          \"Card_Category\", \"Credit_Limit\" ]\n",
    "mar_stat = data.loc[:,data.columns.isin([\"Marital_Status\"])]\n",
    "other_regs = data.loc[:,data.columns.isin(needed)]\n",
    "\n",
    "x_train, x_test, y_train, y_test = train_test_split(other_regs, mar_stat, test_size = 0.33)\n",
    "\n",
    "svmclassifier = SGDClassifier(loss = \"hinge\", penalty = \"l2\")\n",
    "svmclassifier.fit(x_train,y_train.values.ravel());"
   ]
  },
  {
   "cell_type": "code",
   "execution_count": 12,
   "id": "284bb04b",
   "metadata": {
    "scrolled": true
   },
   "outputs": [
    {
     "data": {
      "text/plain": [
       "0.5026595744680851"
      ]
     },
     "execution_count": 12,
     "metadata": {},
     "output_type": "execute_result"
    }
   ],
   "source": [
    "svmclassifier.score(x_test,y_test)"
   ]
  },
  {
   "cell_type": "code",
   "execution_count": 13,
   "id": "28abefcd",
   "metadata": {
    "scrolled": true
   },
   "outputs": [
    {
     "name": "stdout",
     "output_type": "stream",
     "text": [
      "precision :  0.5429310879726904\n",
      "recall :  0.2999970069737512\n",
      "F1 :  0.31430802729421353\n"
     ]
    }
   ],
   "source": [
    "precision = average(cross_val_score(svmclassifier,x_test,y_test.values.ravel(),scoring = \"precision\"))\n",
    "recall = average(cross_val_score(svmclassifier,x_test,y_test.values.ravel(),scoring = \"recall\"))\n",
    "F1 = average(cross_val_score(svmclassifier,x_test,y_test.values.ravel(),scoring = \"f1\"))\n",
    "\n",
    "print(\"precision : \", precision)\n",
    "print(\"recall : \", recall)\n",
    "print(\"F1 : \", F1)"
   ]
  },
  {
   "cell_type": "code",
   "execution_count": 14,
   "id": "b4ab246f",
   "metadata": {},
   "outputs": [
    {
     "name": "stdout",
     "output_type": "stream",
     "text": [
      "{'criterion': 'gini', 'max_depth': 8, 'max_features': 'sqrt', 'n_estimators': 300}\n"
     ]
    }
   ],
   "source": [
    "param_grid = { 'n_estimators': [100,200,300],'max_features': ['sqrt'],'max_depth' : list(range(1, 10)), 'criterion' :['gini']}\n",
    "\n",
    "RFC = GridSearchCV(estimator=RandomForestClassifier(), param_grid=param_grid, refit = True) \n",
    "RFC.fit(x_train, y_train.values.ravel())\n",
    "print(RFC.best_params_)"
   ]
  },
  {
   "cell_type": "code",
   "execution_count": 15,
   "id": "d6c48f13",
   "metadata": {
    "scrolled": false
   },
   "outputs": [
    {
     "name": "stdout",
     "output_type": "stream",
     "text": [
      "{'criterion': 'gini', 'max_depth': 8, 'max_features': 'sqrt', 'n_estimators': 330}\n"
     ]
    }
   ],
   "source": [
    "# {'criterion': 'gini', 'max_depth': 5, 'max_features': 'sqrt', 'n_estimators': 200}\n",
    "param_grid = { 'n_estimators': [270,280,290,300,310,320,330],'max_features': ['sqrt'],'max_depth' : list(range(1, 10)), 'criterion' :['gini']}\n",
    "\n",
    "RFC = GridSearchCV(estimator=RandomForestClassifier(), param_grid=param_grid, refit = True) \n",
    "RFC.fit(x_train, y_train.values.ravel())\n",
    "print(RFC.best_params_)"
   ]
  },
  {
   "cell_type": "code",
   "execution_count": 16,
   "id": "cdceddb7",
   "metadata": {},
   "outputs": [
    {
     "name": "stdout",
     "output_type": "stream",
     "text": [
      "precision :  0.5429177277450241\n",
      "recall :  0.4393104067522672\n",
      "F1 :  0.4866763295205797\n"
     ]
    }
   ],
   "source": [
    "#{'criterion': 'gini', 'max_depth': 6, 'max_features': 'sqrt', 'n_estimators': 230}\n",
    "precision = average(cross_val_score(RFC.best_estimator_,x_test,y_test.values.ravel(),scoring = \"precision\"))\n",
    "recall = average(cross_val_score(RFC.best_estimator_,x_test,y_test.values.ravel(),scoring = \"recall\"))\n",
    "F1 = average(cross_val_score(RFC.best_estimator_,x_test,y_test.values.ravel(),scoring = \"f1\"))\n",
    "\n",
    "print(\"precision : \", precision)\n",
    "print(\"recall : \", recall)\n",
    "print(\"F1 : \", F1)"
   ]
  },
  {
   "cell_type": "code",
   "execution_count": 17,
   "id": "e6e11165",
   "metadata": {},
   "outputs": [],
   "source": [
    "#              Random Forest          SVM \n",
    "# precision :  0.5429177277450241     0.5429310879726904\n",
    "# recall :     0.4393104067522672     0.2999970069737512\n",
    "# F1 :         0.4866763295205797     0.31430802729421353\n",
    "# Итого лучшим классификатором оказался Random Forest"
   ]
  }
 ],
 "metadata": {
  "kernelspec": {
   "display_name": "Python 3 (ipykernel)",
   "language": "python",
   "name": "python3"
  },
  "language_info": {
   "codemirror_mode": {
    "name": "ipython",
    "version": 3
   },
   "file_extension": ".py",
   "mimetype": "text/x-python",
   "name": "python",
   "nbconvert_exporter": "python",
   "pygments_lexer": "ipython3",
   "version": "3.10.4"
  }
 },
 "nbformat": 4,
 "nbformat_minor": 5
}
